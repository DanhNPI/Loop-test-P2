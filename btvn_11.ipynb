{
 "cells": [
  {
   "cell_type": "code",
   "execution_count": 48,
   "metadata": {},
   "outputs": [
    {
     "name": "stdout",
     "output_type": "stream",
     "text": [
      "            *\n",
      "           ***\n",
      "          *****\n",
      "         *******\n",
      "        *********\n",
      "       ***********\n",
      "      *************\n",
      "     ***************\n",
      "    *****************\n",
      "   *******************\n",
      "  *********************\n",
      " ***********************\n",
      "*************************\n",
      " ***********************\n",
      "  *********************\n",
      "   *******************\n",
      "    *****************\n",
      "     ***************\n",
      "      *************\n",
      "       ***********\n",
      "        *********\n",
      "         *******\n",
      "          *****\n",
      "           ***\n",
      "            *\n"
     ]
    }
   ],
   "source": [
    "n = int(input('Nhập số hàng muốn vẽ: '))\n",
    "\n",
    "kt = int ((n+1)/2)\n",
    "\n",
    "for i in range(1,n+1):\n",
    "    if i <= kt:\n",
    "        print (' '*(kt-i)+'*'*(2*i-1))\n",
    "    else:\n",
    "        print (' '*(i-kt)+'*'*(2*(2*kt-i)-1))\n",
    "\n"
   ]
  },
  {
   "cell_type": "code",
   "execution_count": 51,
   "metadata": {},
   "outputs": [
    {
     "name": "stdout",
     "output_type": "stream",
     "text": [
      "184\n"
     ]
    }
   ],
   "source": [
    "count = 0\n",
    "\n",
    "for i in range(51):\n",
    "    for j in range (21):\n",
    "        for a in range(33):\n",
    "            check = i*2 + j*5 + a*3\n",
    "            if (check == 100):\n",
    "                count += 1\n",
    "\n",
    "print ('Số cách quy đổi:', count)"
   ]
  }
 ],
 "metadata": {
  "interpreter": {
   "hash": "183bbf6827d058c2a2fb0f4acdc0420849dda2b4380af0e437e38c64d798d8b7"
  },
  "kernelspec": {
   "display_name": "Python 3.8.5 ('base')",
   "language": "python",
   "name": "python3"
  },
  "language_info": {
   "codemirror_mode": {
    "name": "ipython",
    "version": 3
   },
   "file_extension": ".py",
   "mimetype": "text/x-python",
   "name": "python",
   "nbconvert_exporter": "python",
   "pygments_lexer": "ipython3",
   "version": "3.8.5"
  },
  "orig_nbformat": 4
 },
 "nbformat": 4,
 "nbformat_minor": 2
}
